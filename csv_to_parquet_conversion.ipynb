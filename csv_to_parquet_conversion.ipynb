{
 "cells": [
  {
   "metadata": {
    "ExecuteTime": {
     "end_time": "2025-01-27T06:07:47.210468Z",
     "start_time": "2025-01-27T06:07:47.208222Z"
    }
   },
   "cell_type": "code",
   "source": "import pandas as pd",
   "id": "4048d4ffd119eb4e",
   "outputs": [],
   "execution_count": 2
  },
  {
   "cell_type": "code",
   "execution_count": null,
   "id": "initial_id",
   "metadata": {
    "collapsed": true
   },
   "outputs": [],
   "source": [
    "/* Not needed for Visualization */\n",
    "charevents_file = '../mimic_visualization/mimic-iii-clinical-database-1.4/CHARTEVENTS.csv'\n",
    "\n",
    "def read_csv_and_save_parquet(csv_file, chunk_size=100000, low_memory=False):\n",
    "    \"\"\"Reads a CSV file in chunks and saves each chunk as a Parquet file.\"\"\"\n",
    "\n",
    "    i = 0\n",
    "    for chunk in pd.read_csv(csv_file, chunksize=chunk_size):\n",
    "        parquet_file = f\"../mimic_visualization/mimic-iii-clinical-database-1.4/chartevents/charevents_{i}.parquet\"\n",
    "        chunk.to_parquet(parquet_file)\n",
    "        i += 1\n",
    "\n",
    "# Example usage\n",
    "read_csv_and_save_parquet(\"../mimic_visualization/mimic-iii-clinical-database-1.4/CHARTEVENTS.csv\")"
   ]
  },
  {
   "metadata": {
    "ExecuteTime": {
     "end_time": "2025-01-27T04:06:55.427946Z",
     "start_time": "2025-01-27T04:06:48.429395Z"
    }
   },
   "cell_type": "code",
   "source": [
    "prescriptions_df = pd.read_csv('../mimic_visualization/mimic-iii-clinical-database-1.4/PRESCRIPTIONS.csv',low_memory=False)\n",
    "prescriptions_df.to_parquet('../mimic_visualization/mimic-iii-clinical-database-1.4/prescriptions_p.parquet')\n"
   ],
   "id": "265ad43f7c4312b3",
   "outputs": [],
   "execution_count": 4
  },
  {
   "metadata": {
    "ExecuteTime": {
     "end_time": "2025-01-27T04:06:00.997683Z",
     "start_time": "2025-01-27T04:06:00.919452Z"
    }
   },
   "cell_type": "code",
   "source": [
    "patients_df = pd.read_csv('../mimic_visualization/mimic-iii-clinical-database-1.4/PATIENTS.csv')\n",
    "patients_df.to_parquet('../mimic_visualization/mimic-iii-clinical-database-1.4/patients_p.parquet')"
   ],
   "id": "c138ae4c83319f35",
   "outputs": [],
   "execution_count": 3
  },
  {
   "metadata": {},
   "cell_type": "code",
   "outputs": [],
   "execution_count": null,
   "source": [
    "admissions_df = pd.read_csv('../mimic_visualization/mimic-iii-clinical-database-1.4/ADMISSIONS.csv')\n",
    "admissions_df.to_parquet('../mimic_visualization/mimic-iii-clinical-database-1.4/admissions_p.parquet')"
   ],
   "id": "3e32ac0501b9100c"
  },
  {
   "metadata": {},
   "cell_type": "code",
   "outputs": [],
   "execution_count": null,
   "source": [
    "microbio_df = pd.read_csv('../mimic_visualization/mimic-iii-clinical-database-1.4/MICROBIOLOGYEVENTS.csv')\n",
    "microbio_df.to_parquet('../mimic_visualization/mimic-iii-clinical-database-1.4/microbio_events_p.parquet')"
   ],
   "id": "a94b4154b96b1048"
  },
  {
   "metadata": {
    "ExecuteTime": {
     "end_time": "2025-01-27T06:07:51.843116Z",
     "start_time": "2025-01-27T06:07:51.741422Z"
    }
   },
   "cell_type": "code",
   "source": [
    "icustays_df = pd.read_csv('../mimic_visualization/mimic-iii-clinical-database-1.4/ICUSTAYS.csv')\n",
    "icustays_df.to_parquet('../mimic_visualization/mimic-iii-clinical-database-1.4/icustays_p.parquet')"
   ],
   "id": "e5d31e2bfcf23c61",
   "outputs": [],
   "execution_count": 3
  }
 ],
 "metadata": {
  "kernelspec": {
   "display_name": "Python 3",
   "language": "python",
   "name": "python3"
  },
  "language_info": {
   "codemirror_mode": {
    "name": "ipython",
    "version": 2
   },
   "file_extension": ".py",
   "mimetype": "text/x-python",
   "name": "python",
   "nbconvert_exporter": "python",
   "pygments_lexer": "ipython2",
   "version": "2.7.6"
  }
 },
 "nbformat": 4,
 "nbformat_minor": 5
}
